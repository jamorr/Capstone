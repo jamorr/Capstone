{
 "cells": [
  {
   "cell_type": "code",
   "execution_count": 5,
   "metadata": {},
   "outputs": [],
   "source": [
    "import datetime\n",
    "from itertools import chain, combinations\n",
    "from time import perf_counter\n",
    "from itertools import zip_longest\n",
    "\n",
    "import pandas as pd\n",
    "import seaborn as sns\n",
    "import matplotlib.pyplot as plt\n",
    "import matplotlib\n",
    "import pyarrow as pa\n",
    "import joblib\n",
    "import numpy as np"
   ]
  },
  {
   "cell_type": "code",
   "execution_count": 2,
   "metadata": {},
   "outputs": [
    {
     "data": {
      "text/plain": [
       "Index(['borough', 'complaint_type', 'created_H', 'closed_H', 'agency',\n",
       "       'created_date', 'closed_date', 'status',\n",
       "       'resolution_action_updated_date', 'descriptor',\n",
       "       'resolution_description', 'incident_zip', 'city', 'latitude',\n",
       "       'longitude', 'due_date', 'bbl', 'hours_to_complete', 'created',\n",
       "       'created_bo', 'created_ag', 'created_co', 'created_bo_ag',\n",
       "       'created_bo_co', 'open', 'open_bo', 'open_ag', 'open_co', 'open_bo_ag',\n",
       "       'open_bo_co', 'responded', 'completed', 'insufficient', 'jurisdiction',\n",
       "       'review', 'attempt', 'investigated', ' not ', ' no '],\n",
       "      dtype='object')"
      ]
     },
     "execution_count": 2,
     "metadata": {},
     "output_type": "execute_result"
    }
   ],
   "source": [
    "df = pd.read_feather('../data/2018_tf.feather')\n",
    "df.columns"
   ]
  },
  {
   "cell_type": "code",
   "execution_count": null,
   "metadata": {},
   "outputs": [],
   "source": [
    "df['resolution_description'].str.split(\" \").explode()"
   ]
  },
  {
   "cell_type": "code",
   "execution_count": 3,
   "metadata": {},
   "outputs": [],
   "source": [
    "compl_text = df['descriptor'].str.split(\" \").explode()\n"
   ]
  },
  {
   "cell_type": "code",
   "execution_count": 4,
   "metadata": {},
   "outputs": [
    {
     "data": {
      "text/plain": [
       "0           Tortured\n",
       "1                 No\n",
       "1             Access\n",
       "2              Labor\n",
       "2          Violation\n",
       "             ...    \n",
       "1886367     Flooding\n",
       "1886367         (SJ)\n",
       "1886368      Pothole\n",
       "1886368            -\n",
       "1886368      Highway\n",
       "Name: descriptor, Length: 5049022, dtype: object"
      ]
     },
     "execution_count": 4,
     "metadata": {},
     "output_type": "execute_result"
    }
   ],
   "source": [
    "compl_text"
   ]
  },
  {
   "cell_type": "code",
   "execution_count": 8,
   "metadata": {},
   "outputs": [
    {
     "data": {
      "text/plain": [
       "0                                  [Tortured]\n",
       "1                                [No, Access]\n",
       "15           [Commercial, Overnight, Parking]\n",
       "16         [Posted, Parking, Sign, Violation]\n",
       "20                         [Banging/Pounding]\n",
       "                          ...                \n",
       "1886355         [Other, (complaint, details)]\n",
       "1886363                    [Blocked, Hydrant]\n",
       "1886364                   [Loud, Music/Party]\n",
       "1886365                    [Banging/Pounding]\n",
       "1886366                   [Loud, Music/Party]\n",
       "Name: descriptor, Length: 573681, dtype: object"
      ]
     },
     "execution_count": 8,
     "metadata": {},
     "output_type": "execute_result"
    }
   ],
   "source": [
    "nypdf = joblib.load(\"../data/nypdf_precinct4.pkl\")\n",
    "nypd_compl_text = nypdf['descriptor'].str.split(\" \")\n",
    "nypd_compl_text"
   ]
  },
  {
   "cell_type": "code",
   "execution_count": null,
   "metadata": {},
   "outputs": [],
   "source": []
  }
 ],
 "metadata": {
  "kernelspec": {
   "display_name": "capstone",
   "language": "python",
   "name": "python3"
  },
  "language_info": {
   "codemirror_mode": {
    "name": "ipython",
    "version": 3
   },
   "file_extension": ".py",
   "mimetype": "text/x-python",
   "name": "python",
   "nbconvert_exporter": "python",
   "pygments_lexer": "ipython3",
   "version": "3.10.13"
  }
 },
 "nbformat": 4,
 "nbformat_minor": 2
}
