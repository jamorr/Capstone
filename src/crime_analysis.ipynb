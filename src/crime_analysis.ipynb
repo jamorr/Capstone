{
 "cells": [
  {
   "cell_type": "code",
   "execution_count": null,
   "metadata": {},
   "outputs": [],
   "source": [
    "from utils import get_connection, load_saved_data, get_crime_data\n",
    "from sodapy import Socrata\n",
    "import pandas as pd"
   ]
  },
  {
   "cell_type": "code",
   "execution_count": null,
   "metadata": {},
   "outputs": [],
   "source": [
    "\n",
    "conn = get_connection()\n",
    "\n",
    "npyd_results = get_crime_data(conn, 2018, 2_000_000, 0)\n",
    "npyd_df = pd.DataFrame.from_records(npyd_results)\n",
    "npyd_df\n"
   ]
  },
  {
   "cell_type": "code",
   "execution_count": 1,
   "metadata": {},
   "outputs": [
    {
     "name": "stdout",
     "output_type": "stream",
     "text": [
      "cmplnt_num\n",
      "cmplnt_fr_dt\n",
      "cmplnt_fr_tm\n",
      "cmplnt_to_dt\n",
      "cmplnt_to_tm\n",
      "rpt_dt\n",
      "ky_cd\n",
      "ofns_desc\n",
      "pd_cd\n",
      "pd_desc\n",
      "crm_atpt_cptd_cd\n",
      "law_cat_cd\n",
      "boro_nm\n",
      "loc_of_occur_desc\n",
      "prem_typ_desc\n",
      "juris_desc\n",
      "jurisdiction_code\n",
      "parks_nm\n",
      "hadevelopt\n",
      "housing_psa\n",
      "susp_age_group\n",
      "susp_race\n",
      "susp_sex\n",
      "patrol_boro\n",
      "station_name\n",
      "vic_age_group\n",
      "vic_race\n",
      "vic_sex\n"
     ]
    }
   ],
   "source": [
    "temp = {\n",
    "    \"cmplnt_num\": \"16705935\",\n",
    "        \"cmplnt_fr_dt\": \"2006-04-06T00:00:00.000\",\n",
    "        \"cmplnt_fr_tm\": \"09:00:00\",\n",
    "        \"cmplnt_to_dt\": \"2006-05-04T00:00:00.000\",\n",
    "        \"cmplnt_to_tm\": \"23:59:00\",\n",
    "        \"rpt_dt\": \"2006-06-06T00:00:00.000\",\n",
    "        \"ky_cd\": \"341\",\n",
    "        \"ofns_desc\": \"PETIT LARCENY\",\n",
    "        \"pd_cd\": \"303\",\n",
    "        \"pd_desc\": \"LARCENY,PETIT BY CHECK USE\",\n",
    "        \"crm_atpt_cptd_cd\": \"COMPLETED\",\n",
    "        \"law_cat_cd\": \"MISDEMEANOR\",\n",
    "        \"boro_nm\": \"BRONX\",\n",
    "        \"loc_of_occur_desc\": \"(null)\",\n",
    "        \"prem_typ_desc\": \"(null)\",\n",
    "        \"juris_desc\": \"N.Y. POLICE DEPT\",\n",
    "        \"jurisdiction_code\": \"0\",\n",
    "        \"parks_nm\": \"(null)\",\n",
    "        \"hadevelopt\": \"(null)\",\n",
    "        \"housing_psa\": \"(null)\",\n",
    "        \"susp_age_group\": \"(null)\",\n",
    "        \"susp_race\": \"(null)\",\n",
    "        \"susp_sex\": \"(null)\",\n",
    "        \"patrol_boro\": \"(null)\",\n",
    "        \"station_name\": \"(null)\",\n",
    "        \"vic_age_group\": \"65+\",\n",
    "        \"vic_race\": \"WHITE\",\n",
    "        \"vic_sex\": \"F\"\n",
    "}\n",
    "for a in temp:\n",
    "    print(a)"
   ]
  }
 ],
 "metadata": {
  "kernelspec": {
   "display_name": "capstone",
   "language": "python",
   "name": "python3"
  },
  "language_info": {
   "codemirror_mode": {
    "name": "ipython",
    "version": 3
   },
   "file_extension": ".py",
   "mimetype": "text/x-python",
   "name": "python",
   "nbconvert_exporter": "python",
   "pygments_lexer": "ipython3",
   "version": "3.10.13"
  }
 },
 "nbformat": 4,
 "nbformat_minor": 2
}
