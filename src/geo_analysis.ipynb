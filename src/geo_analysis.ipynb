{
 "cells": [
  {
   "cell_type": "markdown",
   "metadata": {},
   "source": [
    "### Imports and Data Load/Prep"
   ]
  },
  {
   "cell_type": "code",
   "execution_count": null,
   "metadata": {},
   "outputs": [],
   "source": [
    "import datetime\n",
    "import multiprocessing as mp\n",
    "import os\n",
    "import pathlib\n",
    "\n",
    "import dask.dataframe as dd\n",
    "import datashader as ds\n",
    "import datashader.transfer_functions as tf\n",
    "import geopandas as gpd\n",
    "import joblib\n",
    "import numpy as np\n",
    "import pandas as pd\n",
    "import plotly.express as px\n",
    "import pyarrow as pa\n",
    "from colorcet import fire\n",
    "from dask.distributed import Client, LocalCluster\n",
    "from shapely.geometry import Point\n",
    "from shapely.strtree import STRtree"
   ]
  },
  {
   "cell_type": "code",
   "execution_count": null,
   "metadata": {},
   "outputs": [],
   "source": [
    "def get_district(latitude:pa.float64, longitude:pa.float64, snames:np.ndarray, tree:STRtree)->str:\n",
    "    \"\"\"Fast function for finding which district a point lies inside\n",
    "\n",
    "    Args:\n",
    "        latitude (pa.float64): floating point latitude value\n",
    "        longitude (pa.float64): floating point longitude value\n",
    "        snames (np.ndarray): array of sector names indexed the same as the tree\n",
    "        tree (STRtree): tree of geometries for quick lookup\n",
    "\n",
    "    Returns:\n",
    "        str: csv of sector names a point falls into\n",
    "    \"\"\"\n",
    "    p = Point(longitude,latitude)\n",
    "    idx = tree.query(p, 'within')\n",
    "    if len(idx):\n",
    "        return snames[idx[0]]\n",
    "    return ''"
   ]
  },
  {
   "cell_type": "code",
   "execution_count": null,
   "metadata": {},
   "outputs": [],
   "source": [
    "root_dir = pathlib.Path(\"../data/nypd\")\n",
    "try:\n",
    "    # data from https://data.cityofnewyork.us/Public-Safety/NYPD-Sectors/eizi-ujye\n",
    "    sectors = joblib.load(root_dir/\"sectors.pkl\")\n",
    "except FileNotFoundError:\n",
    "    # convert geometry column to shapely objects\n",
    "\n",
    "    sectors = pd.read_csv(root_dir/\"NYPD_Sectors_20240306.csv\").convert_dtypes(dtype_backend='pyarrow')\n",
    "\n",
    "    sectors['the_geom'] = gpd.GeoSeries.from_wkt(sectors['the_geom'])\n",
    "    sectors = gpd.GeoDataFrame(sectors, geometry='the_geom')\n",
    "\n",
    "    joblib.dump(sectors, root_dir/\"sectors.pkl\")\n",
    "\n",
    "try:\n",
    "    nypdf = pd.read_parquet(root_dir/\"precincts\")\n",
    "    if len(nypdf) == 0:\n",
    "        raise FileNotFoundError\n",
    "    # nypdf = joblib.load(\"../data/nypd/nypdf_precinct.pkl\")\n",
    "except FileNotFoundError:\n",
    "    print(\"File not found, making new file.\")\n",
    "    # Create cluster to speed up compute\n",
    "    # cluster = LocalCluster(n_workers=4, threads_per_worker=8, processes=True)\n",
    "    # client = Client(cluster)\n",
    "    worker_count = int(0.9 * mp.cpu_count()) # leave a core or so for other use\n",
    "    with LocalCluster(\n",
    "        n_workers=worker_count,\n",
    "        processes=True,\n",
    "        threads_per_worker=1,\n",
    "        memory_limit='1GB', # per worker memory limit\n",
    "    ) as cluster, Client(cluster) as client:\n",
    "        print(\"View progress here\", client.dashboard_link)\n",
    "        # Create snames list for use in labeling points\n",
    "        snames:np.ndarray = sectors['SCT_TEXT'].values\n",
    "        # Build a tree of geometry for faster queries\n",
    "        tree:STRtree = STRtree(sectors['the_geom'].values)\n",
    "        # load main 311 data\n",
    "        nypdf = pd.read_parquet(\"../data/311/2018/processed/agency=NYPD\")\n",
    "        nypdf = nypdf[nypdf['created_date']>= datetime.date(2018, 1, 1)]\n",
    "        # drop data without any lat/long\n",
    "        nypdf = nypdf.dropna(how='any',subset=['latitude','longitude'])\n",
    "        # convert to dask frame with 4 partitions\n",
    "        nypd_dd: dd.DataFrame = dd.from_pandas(nypdf[['latitude','longitude']], npartitions=worker_count)\n",
    "        # compute which district each complaint fall into\n",
    "        sct = nypd_dd.apply(lambda x: get_district(x['latitude'], x['longitude'], snames, tree), axis=1, meta=('sector', str))\n",
    "        sct.compute()\n",
    "        # add computed values to dataframe\n",
    "        nypdf['sector'] = sct\n",
    "        nypdf['precinct'] = nypdf['sector'].str.slice(0,3).str.lstrip(\"0\").str.rstrip(r\"ABCDEFGHIJKL\")\n",
    "\n",
    "        # save\n",
    "        nypdf.to_parquet(root_dir/\"precincts\", partition_cols=['precinct','sector'])\n",
    "\n"
   ]
  },
  {
   "cell_type": "markdown",
   "metadata": {},
   "source": [
    "### Plot Heat Map "
   ]
  },
  {
   "cell_type": "code",
   "execution_count": null,
   "metadata": {},
   "outputs": [],
   "source": [
    "# get a data frame of just lat and long in numpy datatype\n",
    "nypdf_lat_long = nypdf[[\"latitude\", \"longitude\"]].astype(np.float64)\n",
    "# create a static heatmap pixel wise\n",
    "cvs = ds.Canvas(plot_width=2000, plot_height=2000)\n",
    "# doesnt accept pyarrow types\n",
    "agg = cvs.points(nypdf_lat_long, y='latitude', x='longitude')\n",
    "img = tf.shade(agg, cmap=fire)[::-1].to_pil()\n",
    "\n",
    "# get image coords\n",
    "coords_lat, coords_lon = agg.coords['latitude'].values, agg.coords['longitude'].values\n",
    "coordinates = [[coords_lon[0], coords_lat[0]],\n",
    "            [coords_lon[-1], coords_lat[0]],\n",
    "            [coords_lon[-1], coords_lat[-1]],\n",
    "            [coords_lon[0], coords_lat[-1]]]\n",
    "\n",
    "# create mapbox\n",
    "fig = px.scatter_mapbox(nypdf[:1], lat='latitude', lon='longitude', zoom=9, opacity=0)\n",
    "fig.data[0]['lat'] = fig.data[0]['lon'] = []\n",
    "# add the generated heatmap to the mapbox\n",
    "fig.update_layout(mapbox_style=\"carto-darkmatter\",\n",
    "                mapbox_layers = [\n",
    "                {\n",
    "                    \"sourcetype\": \"image\",\n",
    "                    \"source\": img,\n",
    "                    \"coordinates\": coordinates\n",
    "                }]\n",
    ")\n",
    "if not os.path.exists(\"../plots/nypd_311_map_density.html\"):\n",
    "    fig.write_html(\"../plots/nypd_311_map_density.html\")\n",
    "\n",
    "fig.show()"
   ]
  },
  {
   "cell_type": "markdown",
   "metadata": {},
   "source": [
    "### Prepare Data for Animation Plotting"
   ]
  },
  {
   "cell_type": "code",
   "execution_count": null,
   "metadata": {},
   "outputs": [],
   "source": [
    "sectors.set_index('SCT_TEXT', inplace=True)\n",
    "sectors = pd.merge(sectors, nypdf['sector'].value_counts(), how='left', left_on='SCT_TEXT', right_index=True)"
   ]
  },
  {
   "cell_type": "code",
   "execution_count": null,
   "metadata": {},
   "outputs": [],
   "source": [
    "# reshaping data for animation plot\n",
    "nypdf['created_M']=nypdf['created_H'].dt.month\n",
    "daily_count = nypdf[['created_M', 'sector', 'created_date']].groupby(['created_M', 'sector'], observed=False).count()\n",
    "daily_count.columns = [\"Complaint Volume\"]\n",
    "daily_count = daily_count.unstack('sector')\n",
    "daily_count.index = daily_count.index.rename('Date')\n",
    "daily_count.drop(('Complaint Volume', ''), axis=1, inplace=True)\n",
    "# daily_count = daily_count.stack('sector').unstack('Date')\n",
    "daily_count.reset_index(drop=False, inplace=True)\n",
    "daily_count.columns = daily_count.columns.droplevel()\n",
    "daily_count['Month'] = daily_count['']\n",
    "daily_count.drop('', axis=1,inplace=True)\n",
    "daily_count.set_index('Month', inplace=True)\n",
    "daily_count = daily_count.T\n",
    "daily_count = daily_count.stack().reset_index()\n",
    "daily_count = pd.merge(daily_count, sectors['the_geom'], how='left', left_on='sector', right_index=True)\n",
    "daily_count = daily_count.rename({0:'Complaint Volume', 'sector':'Sector', 'the_geom':'Geometry'}, axis='columns')"
   ]
  },
  {
   "cell_type": "code",
   "execution_count": null,
   "metadata": {},
   "outputs": [],
   "source": [
    "daily_count"
   ]
  },
  {
   "cell_type": "markdown",
   "metadata": {},
   "source": [
    "### Plot Monthly Complaint Volume by Sector by Borough"
   ]
  },
  {
   "cell_type": "code",
   "execution_count": 26,
   "metadata": {},
   "outputs": [],
   "source": [
    "for boro in nypdf['borough'].unique():\n",
    "    if boro == 'Unspecified':\n",
    "        continue\n",
    "\n",
    "    boro_sectors = list(nypdf[nypdf['borough']==boro]['sector'].unique())\n",
    "    boro_sectors = [b for b in boro_sectors if b]\n",
    "    lat = nypdf[nypdf['borough']==boro]['latitude'].mean()\n",
    "    lon = nypdf[nypdf['borough']==boro]['longitude'].mean()\n",
    "    daily_count1 = daily_count[daily_count['Sector'].isin(boro_sectors)]\n",
    "\n",
    "    daily_count_sectors = gpd.GeoDataFrame(daily_count1, geometry='Geometry')\n",
    "    daily_count_sectors = daily_count_sectors.set_index('Sector')\n",
    "    fig = px.choropleth_mapbox(\n",
    "        data_frame=daily_count_sectors,\n",
    "        animation_frame='Month',\n",
    "        # animation_group='Sector',\n",
    "        geojson=daily_count_sectors.geometry,\n",
    "        locations=daily_count_sectors.index,\n",
    "        color='Complaint Volume',\n",
    "        range_color=[0,round(daily_count1['Complaint Volume'].max(),-2)+100],\n",
    "        center=dict(lat=lat, lon=lon),\n",
    "        mapbox_style=\"open-street-map\",\n",
    "        opacity=0.7,\n",
    "        zoom=8.5,\n",
    "    )\n",
    "    if not os.path.exists(f\"../plots/animations/{boro}_311.html\"):\n",
    "        fig.write_html(f\"../plots/animations/{boro}_311.html\")\n"
   ]
  },
  {
   "cell_type": "markdown",
   "metadata": {},
   "source": [
    "### Plot Yearly Complaint Volume by Sector By Borough"
   ]
  },
  {
   "cell_type": "code",
   "execution_count": null,
   "metadata": {},
   "outputs": [],
   "source": [
    "daily_count_sectors = gpd.GeoDataFrame(daily_count, geometry='Geometry')\n",
    "daily_count_sectors = daily_count_sectors.set_index('Sector')\n",
    "fig = px.choropleth_mapbox(\n",
    "    data_frame=daily_count_sectors,\n",
    "    animation_frame='Month',\n",
    "    # animation_group='Sector',\n",
    "    geojson=daily_count_sectors.geometry,\n",
    "    locations=daily_count_sectors.index,\n",
    "    color='Complaint Volume',\n",
    "    range_color=[0,round(daily_count['Complaint Volume'].max(),-2)+100],\n",
    "    center=dict(lat=40.73390865622287, lon=-73.9232548285547),\n",
    "    mapbox_style=\"open-street-map\",\n",
    "    opacity=0.7,\n",
    "    zoom=8.5,\n",
    ")\n",
    "if not os.path.exists(\"../plots/choropleth_sectors_animated.html\"):\n",
    "    fig.write_html(\"../plots/choropleth_sectors_animated.html\")"
   ]
  },
  {
   "cell_type": "code",
   "execution_count": null,
   "metadata": {},
   "outputs": [],
   "source": [
    "\n",
    "fig = px.choropleth_mapbox(sectors,\n",
    "                        geojson=sectors.geometry,\n",
    "                        locations=sectors.index,\n",
    "                        color=\"count\",\n",
    "                        center=dict(lat=40.73390865622287, lon=-73.9232548285547),\n",
    "                        mapbox_style=\"open-street-map\",\n",
    "                        opacity=0.7,\n",
    "                        zoom=8.5,\n",
    "                        labels={'SCT_TEXT':\"Sector\", \"count\":\"Complaint Volume\"}\n",
    "                        )\n",
    "if not os.path.exists(\"../plots/choropleth_sectors.html\"):\n",
    "    fig.write_html(\"../plots/choropleth_sectors.html\")\n",
    "\n",
    "fig.show()"
   ]
  },
  {
   "cell_type": "code",
   "execution_count": null,
   "metadata": {},
   "outputs": [],
   "source": [
    "fig = px.density_mapbox(nypdf, lat='latitude', lon='longitude', radius=1.5,\n",
    "                        center=dict(lat=40.73390865622287, lon=-73.9232548285547), zoom=9,\n",
    "                        mapbox_style=\"open-street-map\")\n",
    "# fig.show()"
   ]
  },
  {
   "cell_type": "code",
   "execution_count": null,
   "metadata": {},
   "outputs": [],
   "source": [
    "# from mpl_toolkits.basemap import Basemap\n",
    "#\n",
    "# agency = q2017_df[\"agency\"].unique()\n",
    "# # Generate unique colors for each unique value\n",
    "# num_unique_values = len(agency)\n",
    "# colors = plt.cm.rainbow(np.linspace(0, 1, num_unique_values))\n",
    "\n",
    "# # Map unique values to unique colors\n",
    "# color_map = dict(zip(agency, colors))\n",
    "\n",
    "# avg_lat = q2017_df[\"latitude\"].mean()\n",
    "# avg_lon = q2017_df[\"longitude\"].mean()\n",
    "# print(avg_lon, avg_lat)\n",
    "# fig, ax = plt.subplots(1, 1, figsize=(12, 8))\n",
    "# m = Basemap(projection='gnom', lat_0=avg_lat, lon_0=avg_lon,\n",
    "#                 width=60_000, height=40_000, resolution=\"f\", ax=ax)\n",
    "# m.fillcontinents(color=\"#FFDDCC\", lake_color='#DDEEFF')\n",
    "# m.drawmapboundary(fill_color=\"#DDEEFF\")\n",
    "# m.drawcoastlines()\n",
    "\n",
    "# for group, color in color_map.items():\n",
    "#     group_data = q2017_df[q2017_df['agency'] == group]\n",
    "#     m.scatter(\n",
    "#         group_data[\"longitude\"], group_data[\"latitude\"],\n",
    "#         latlon=True, color=color, label=group, alpha = 0.1,\n",
    "#         s=0.5\n",
    "#         # c=q2017_df[\"agency\"]\n",
    "#         )\n",
    "# ax.legend(loc=\"upper right\", ncol=1,bbox_to_anchor=[1.25,1], scatterpoints=4)"
   ]
  }
 ],
 "metadata": {
  "kernelspec": {
   "display_name": "capstone",
   "language": "python",
   "name": "python3"
  },
  "language_info": {
   "codemirror_mode": {
    "name": "ipython",
    "version": 3
   },
   "file_extension": ".py",
   "mimetype": "text/x-python",
   "name": "python",
   "nbconvert_exporter": "python",
   "pygments_lexer": "ipython3",
   "version": "3.10.13"
  }
 },
 "nbformat": 4,
 "nbformat_minor": 2
}
