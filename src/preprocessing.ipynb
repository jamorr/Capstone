{
 "cells": [
  {
   "cell_type": "markdown",
   "metadata": {},
   "source": [
    "#### Imports and Read Data"
   ]
  },
  {
   "cell_type": "code",
   "execution_count": 2,
   "metadata": {},
   "outputs": [],
   "source": [
    "from itertools import chain, combinations\n",
    "from time import perf_counter\n",
    "import pathlib\n",
    "from volume_feature import add_powerset_created, add_powerset_open\n",
    "import pandas as pd\n",
    "\n",
    "from utils import get_connection, get_311_data, powerset, make_rounded_time_column\n"
   ]
  },
  {
   "cell_type": "code",
   "execution_count": 14,
   "metadata": {},
   "outputs": [],
   "source": [
    "# df = load_saved_data()\n",
    "root_dir = pathlib.Path(\"../data\")\n",
    "dir_2018 = root_dir/\"311/2018\"\n",
    "try:\n",
    "    df = pd.read_parquet(dir_2018/\"unprocessed\")\n",
    "    if len(df) == 0:\n",
    "        raise FileNotFoundError\n",
    "except FileNotFoundError:\n",
    "    with get_connection() as conn:\n",
    "        df1 = get_311_data(conn, 2018, 2018, 2_000_000, 2_000_000)\n",
    "    df2 = pd.read_feather(root_dir/'2018.feather')\n",
    "    df = pd.concat([df1, df2])\n",
    "    df.to_parquet(dir_2018/\"unprocessed\", partition_cols=[\"agency\"])\n",
    "\n"
   ]
  },
  {
   "cell_type": "code",
   "execution_count": 15,
   "metadata": {},
   "outputs": [
    {
     "data": {
      "text/plain": [
       "created_date                       0.00000\n",
       "closed_date                        2.27740\n",
       "complaint_type                     0.00000\n",
       "descriptor                         0.93560\n",
       "status                             0.00000\n",
       "resolution_description             9.34560\n",
       "resolution_action_updated_date     1.21305\n",
       "borough                            0.05100\n",
       "incident_zip                       6.15895\n",
       "city                               6.12325\n",
       "bbl                               30.71885\n",
       "latitude                          10.50730\n",
       "longitude                         10.50730\n",
       "due_date                          81.49550\n",
       "agency                             0.00000\n",
       "dtype: float64"
      ]
     },
     "metadata": {},
     "output_type": "display_data"
    }
   ],
   "source": [
    "display(df.isnull().sum()/2e6 * 100)\n"
   ]
  },
  {
   "cell_type": "markdown",
   "metadata": {},
   "source": [
    "#### Drop, Fill, and Explore"
   ]
  },
  {
   "cell_type": "code",
   "execution_count": 16,
   "metadata": {},
   "outputs": [],
   "source": [
    "\n",
    "current_date = pd.Timestamp.now().normalize()\n",
    "# remove impossible records\n",
    "# (close in future)\n",
    "df = df.drop(df[df['closed_date']>current_date].index)\n",
    "# (close before created)\n",
    "df = df.loc[(df['closed_date']>df['created_date'])|(df['closed_date'].isnull())]\n",
    "# Fill borough missing with unspecified\n",
    "df['borough'].fillna('Unspecified', inplace=True)"
   ]
  },
  {
   "cell_type": "code",
   "execution_count": 17,
   "metadata": {},
   "outputs": [
    {
     "data": {
      "text/plain": [
       "object                    8\n",
       "timestamp[ns][pyarrow]    4\n",
       "double[pyarrow]           2\n",
       "category                  1\n",
       "Name: count, dtype: int64"
      ]
     },
     "execution_count": 17,
     "metadata": {},
     "output_type": "execute_result"
    }
   ],
   "source": [
    "df.dtypes.value_counts()"
   ]
  },
  {
   "cell_type": "code",
   "execution_count": 18,
   "metadata": {},
   "outputs": [
    {
     "data": {
      "text/plain": [
       "created_date                      timestamp[ns][pyarrow]\n",
       "closed_date                       timestamp[ns][pyarrow]\n",
       "complaint_type                                    object\n",
       "descriptor                                        object\n",
       "status                                            object\n",
       "resolution_description                            object\n",
       "resolution_action_updated_date    timestamp[ns][pyarrow]\n",
       "borough                                           object\n",
       "incident_zip                                      object\n",
       "city                                              object\n",
       "bbl                                               object\n",
       "latitude                                 double[pyarrow]\n",
       "longitude                                double[pyarrow]\n",
       "due_date                          timestamp[ns][pyarrow]\n",
       "agency                                          category\n",
       "dtype: object"
      ]
     },
     "execution_count": 18,
     "metadata": {},
     "output_type": "execute_result"
    }
   ],
   "source": [
    "df.dtypes"
   ]
  },
  {
   "cell_type": "code",
   "execution_count": 19,
   "metadata": {},
   "outputs": [
    {
     "data": {
      "text/html": [
       "<div>\n",
       "<style scoped>\n",
       "    .dataframe tbody tr th:only-of-type {\n",
       "        vertical-align: middle;\n",
       "    }\n",
       "\n",
       "    .dataframe tbody tr th {\n",
       "        vertical-align: top;\n",
       "    }\n",
       "\n",
       "    .dataframe thead th {\n",
       "        text-align: right;\n",
       "    }\n",
       "</style>\n",
       "<table border=\"1\" class=\"dataframe\">\n",
       "  <thead>\n",
       "    <tr style=\"text-align: right;\">\n",
       "      <th></th>\n",
       "      <th>created_date</th>\n",
       "      <th>closed_date</th>\n",
       "      <th>resolution_action_updated_date</th>\n",
       "      <th>latitude</th>\n",
       "      <th>longitude</th>\n",
       "      <th>due_date</th>\n",
       "    </tr>\n",
       "  </thead>\n",
       "  <tbody>\n",
       "    <tr>\n",
       "      <th>count</th>\n",
       "      <td>2749935</td>\n",
       "      <td>2704387</td>\n",
       "      <td>2725684</td>\n",
       "      <td>2.563366e+06</td>\n",
       "      <td>2.563366e+06</td>\n",
       "      <td>1221627</td>\n",
       "    </tr>\n",
       "    <tr>\n",
       "      <th>mean</th>\n",
       "      <td>2018-06-19 16:33:09.595934976</td>\n",
       "      <td>2018-07-15 20:16:57.474858496</td>\n",
       "      <td>2018-07-15 08:48:31.596451328</td>\n",
       "      <td>4.072730e+01</td>\n",
       "      <td>-7.392399e+01</td>\n",
       "      <td>2018-07-14 21:02:14.292905472</td>\n",
       "    </tr>\n",
       "    <tr>\n",
       "      <th>min</th>\n",
       "      <td>2010-01-05 16:12:25</td>\n",
       "      <td>2018-01-01 00:00:00</td>\n",
       "      <td>2012-12-06 00:00:00</td>\n",
       "      <td>4.049895e+01</td>\n",
       "      <td>-7.425473e+01</td>\n",
       "      <td>2012-09-20 18:00:45</td>\n",
       "    </tr>\n",
       "    <tr>\n",
       "      <th>25%</th>\n",
       "      <td>2018-03-23 10:49:07.500000</td>\n",
       "      <td>2018-04-04 14:43:28</td>\n",
       "      <td>2018-04-05 00:00:00</td>\n",
       "      <td>4.066493e+01</td>\n",
       "      <td>-7.396879e+01</td>\n",
       "      <td>2018-04-21 13:51:38</td>\n",
       "    </tr>\n",
       "    <tr>\n",
       "      <th>50%</th>\n",
       "      <td>2018-06-27 13:37:00</td>\n",
       "      <td>2018-07-10 07:31:27</td>\n",
       "      <td>2018-07-10 23:02:42</td>\n",
       "      <td>4.071856e+01</td>\n",
       "      <td>-7.392667e+01</td>\n",
       "      <td>2018-07-13 20:08:49</td>\n",
       "    </tr>\n",
       "    <tr>\n",
       "      <th>75%</th>\n",
       "      <td>2018-09-28 20:53:45.500000</td>\n",
       "      <td>2018-10-12 13:01:14.500000</td>\n",
       "      <td>2018-10-13 14:39:30</td>\n",
       "      <td>4.080068e+01</td>\n",
       "      <td>-7.387611e+01</td>\n",
       "      <td>2018-10-07 16:24:23</td>\n",
       "    </tr>\n",
       "    <tr>\n",
       "      <th>max</th>\n",
       "      <td>2018-12-31 23:59:56</td>\n",
       "      <td>2024-02-22 16:20:00</td>\n",
       "      <td>2024-02-22 00:00:00</td>\n",
       "      <td>4.091294e+01</td>\n",
       "      <td>-7.370038e+01</td>\n",
       "      <td>2022-07-21 02:22:26</td>\n",
       "    </tr>\n",
       "    <tr>\n",
       "      <th>std</th>\n",
       "      <td>NaN</td>\n",
       "      <td>NaN</td>\n",
       "      <td>NaN</td>\n",
       "      <td>8.609226e-02</td>\n",
       "      <td>8.371429e-02</td>\n",
       "      <td>NaN</td>\n",
       "    </tr>\n",
       "  </tbody>\n",
       "</table>\n",
       "</div>"
      ],
      "text/plain": [
       "                        created_date                    closed_date  \\\n",
       "count                        2749935                        2704387   \n",
       "mean   2018-06-19 16:33:09.595934976  2018-07-15 20:16:57.474858496   \n",
       "min              2010-01-05 16:12:25            2018-01-01 00:00:00   \n",
       "25%       2018-03-23 10:49:07.500000            2018-04-04 14:43:28   \n",
       "50%              2018-06-27 13:37:00            2018-07-10 07:31:27   \n",
       "75%       2018-09-28 20:53:45.500000     2018-10-12 13:01:14.500000   \n",
       "max              2018-12-31 23:59:56            2024-02-22 16:20:00   \n",
       "std                              NaN                            NaN   \n",
       "\n",
       "      resolution_action_updated_date      latitude     longitude  \\\n",
       "count                        2725684  2.563366e+06  2.563366e+06   \n",
       "mean   2018-07-15 08:48:31.596451328  4.072730e+01 -7.392399e+01   \n",
       "min              2012-12-06 00:00:00  4.049895e+01 -7.425473e+01   \n",
       "25%              2018-04-05 00:00:00  4.066493e+01 -7.396879e+01   \n",
       "50%              2018-07-10 23:02:42  4.071856e+01 -7.392667e+01   \n",
       "75%              2018-10-13 14:39:30  4.080068e+01 -7.387611e+01   \n",
       "max              2024-02-22 00:00:00  4.091294e+01 -7.370038e+01   \n",
       "std                              NaN  8.609226e-02  8.371429e-02   \n",
       "\n",
       "                            due_date  \n",
       "count                        1221627  \n",
       "mean   2018-07-14 21:02:14.292905472  \n",
       "min              2012-09-20 18:00:45  \n",
       "25%              2018-04-21 13:51:38  \n",
       "50%              2018-07-13 20:08:49  \n",
       "75%              2018-10-07 16:24:23  \n",
       "max              2022-07-21 02:22:26  \n",
       "std                              NaN  "
      ]
     },
     "metadata": {},
     "output_type": "display_data"
    }
   ],
   "source": [
    "display(df.describe())\n",
    "# display(df.describe(include='string'))\n"
   ]
  },
  {
   "cell_type": "code",
   "execution_count": 20,
   "metadata": {},
   "outputs": [
    {
     "data": {
      "text/plain": [
       "41153"
      ]
     },
     "execution_count": 20,
     "metadata": {},
     "output_type": "execute_result"
    }
   ],
   "source": [
    "df[(df['borough']=='Unspecified')]['created_date'].count()#/2e6"
   ]
  },
  {
   "cell_type": "code",
   "execution_count": 21,
   "metadata": {},
   "outputs": [
    {
     "data": {
      "text/plain": [
       "45548"
      ]
     },
     "execution_count": 21,
     "metadata": {},
     "output_type": "execute_result"
    }
   ],
   "source": [
    "df['closed_date'].isnull().sum()"
   ]
  },
  {
   "cell_type": "code",
   "execution_count": 22,
   "metadata": {},
   "outputs": [
    {
     "data": {
      "image/png": "[encoded data removed]",
      "text/plain": [
       "<Figure size 640x480 with 1 Axes>"
      ]
     },
     "metadata": {},
     "output_type": "display_data"
    }
   ],
   "source": [
    "unclosed_status = df[(df['closed_date'].isnull())].groupby('status')['created_date'].count().sort_values(ascending=False)\n",
    "ax = unclosed_status.plot.bar(title='Unclosed Records Status', ylabel='Count', xlabel='Status', color='w')#.to_clipboard()\n",
    "ax.set_facecolor((0,0,0,0))\n",
    "fig = ax.get_figure()\n",
    "fig.set_facecolor('k')\n",
    "ax.spines['bottom'].set_color('white')\n",
    "ax.spines['left'].set_color('white')\n",
    "\n",
    "# Other customizations with white for inverted theme\n",
    "ax.xaxis.label.set_color('white')\n",
    "ax.yaxis.label.set_color('white')\n",
    "ax.title.set_color('white')\n",
    "ax.tick_params(axis='x', colors='white', rotation=30)\n",
    "ax.tick_params(axis='y', colors='white')"
   ]
  },
  {
   "cell_type": "code",
   "execution_count": 23,
   "metadata": {},
   "outputs": [
    {
     "name": "stderr",
     "output_type": "stream",
     "text": [
      "C:\\Users\\Morri\\AppData\\Local\\Temp\\ipykernel_8544\\2750814593.py:1: FutureWarning: The default of observed=False is deprecated and will be changed to True in a future version of pandas. Pass observed=False to retain current behavior or observed=True to adopt the future default and silence this warning.\n",
      "  df[(df['status']!='Closed')].groupby('agency')['closed_date'].count()\n"
     ]
    },
    {
     "data": {
      "text/plain": [
       "created_date                      34205\n",
       "closed_date                       30955\n",
       "complaint_type                    34205\n",
       "descriptor                        33991\n",
       "status                            34205\n",
       "resolution_description            34105\n",
       "resolution_action_updated_date    18320\n",
       "borough                           34205\n",
       "incident_zip                          0\n",
       "city                                  9\n",
       "bbl                                   0\n",
       "latitude                              0\n",
       "longitude                             0\n",
       "due_date                          19596\n",
       "agency                            34205\n",
       "dtype: int64"
      ]
     },
     "execution_count": 23,
     "metadata": {},
     "output_type": "execute_result"
    }
   ],
   "source": [
    "df[(df['status']!='Closed')].groupby('agency')['closed_date'].count()\n",
    "df[(df['borough']=='Unspecified') &  (df['latitude'].isnull()) & (df['incident_zip'].isnull())].count()\n",
    "# unclosed = df[(df['status']!='Closed')|(df['closed_date'] == pd.NaT)]['agency'].value_counts()\n",
    "# unclosed.plot.bar(title='Number of Unclosed Requests by Agency', xlabel='Agency', ylabel='Unclosed Request Count')\n",
    "# unclosed = df[df['status']!='Closed']['agency'].value_counts()\n",
    "# unclosed.plot.bar(title='Number of Unclosed Requests by Agency', xlabel='Agency', ylabel='Unclosed Request Count')"
   ]
  },
  {
   "cell_type": "code",
   "execution_count": 24,
   "metadata": {},
   "outputs": [],
   "source": [
    "# remove null closed dates\n",
    "df = df.loc[df['closed_date'].notnull()]"
   ]
  },
  {
   "cell_type": "markdown",
   "metadata": {},
   "source": [
    "#### Feature Engineering"
   ]
  },
  {
   "cell_type": "markdown",
   "metadata": {},
   "source": [
    "##### Add target feature"
   ]
  },
  {
   "cell_type": "code",
   "execution_count": 25,
   "metadata": {},
   "outputs": [],
   "source": [
    "df['hours_to_complete'] =  pd.to_datetime(df['closed_date']) - pd.to_datetime(df['created_date'])\n",
    "df['hours_to_complete'] = df.loc[:,'hours_to_complete'].astype('float64') / (3.6e12)"
   ]
  },
  {
   "cell_type": "markdown",
   "metadata": {},
   "source": [
    "##### Add number of requests created by hour and grouped"
   ]
  },
  {
   "cell_type": "markdown",
   "metadata": {},
   "source": [
    "##### Add number of requests open by hour grouped by features"
   ]
  },
  {
   "cell_type": "code",
   "execution_count": 28,
   "metadata": {},
   "outputs": [
    {
     "name": "stdout",
     "output_type": "stream",
     "text": [
      "general\n",
      "0.116 seconds\n",
      "\n",
      "borough\n",
      "0.742 seconds\n",
      "\n",
      "agency\n"
     ]
    },
    {
     "name": "stderr",
     "output_type": "stream",
     "text": [
      "C:\\Users\\Morri\\AppData\\Local\\Temp\\ipykernel_8544\\3800869002.py:12: FutureWarning: The default of observed=False is deprecated and will be changed to True in a future version of pandas. Pass observed=False to retain current behavior or observed=True to adopt the future default and silence this warning.\n",
      "  created_by_date = df.groupby(\n"
     ]
    },
    {
     "name": "stdout",
     "output_type": "stream",
     "text": [
      "0.587 seconds\n",
      "\n",
      "complaint_type\n",
      "0.802 seconds\n",
      "\n",
      "borough agency\n"
     ]
    },
    {
     "name": "stderr",
     "output_type": "stream",
     "text": [
      "C:\\Users\\Morri\\AppData\\Local\\Temp\\ipykernel_8544\\3800869002.py:12: FutureWarning: The default of observed=False is deprecated and will be changed to True in a future version of pandas. Pass observed=False to retain current behavior or observed=True to adopt the future default and silence this warning.\n",
      "  created_by_date = df.groupby(\n"
     ]
    },
    {
     "name": "stdout",
     "output_type": "stream",
     "text": [
      "1.960 seconds\n",
      "\n",
      "borough complaint_type\n",
      "1.776 seconds\n",
      "\n",
      "general\n",
      "2.337 seconds\n",
      "\n",
      "borough\n",
      "3.169 seconds\n",
      "\n",
      "agency\n"
     ]
    },
    {
     "name": "stderr",
     "output_type": "stream",
     "text": [
      "C:\\Users\\Morri\\AppData\\Local\\Temp\\ipykernel_8544\\511794481.py:42: FutureWarning: The default of observed=False is deprecated and will be changed to True in a future version of pandas. Pass observed=False to retain current behavior or observed=True to adopt the future default and silence this warning.\n",
      "  t_num_closed = df['closed_date'].groupby(level=list(range(df.index.nlevels))).count()\n",
      "C:\\Users\\Morri\\AppData\\Local\\Temp\\ipykernel_8544\\511794481.py:57: FutureWarning: The default of observed=False is deprecated and will be changed to True in a future version of pandas. Pass observed=False to retain current behavior or observed=True to adopt the future default and silence this warning.\n",
      "  t_num_created = df['created_date'].groupby(level=list(range(df.index.nlevels))).count()\n"
     ]
    },
    {
     "name": "stdout",
     "output_type": "stream",
     "text": [
      "3.075 seconds\n",
      "\n",
      "complaint_type\n",
      "7.779 seconds\n",
      "\n",
      "borough agency\n"
     ]
    },
    {
     "name": "stderr",
     "output_type": "stream",
     "text": [
      "C:\\Users\\Morri\\AppData\\Local\\Temp\\ipykernel_8544\\511794481.py:42: FutureWarning: The default of observed=False is deprecated and will be changed to True in a future version of pandas. Pass observed=False to retain current behavior or observed=True to adopt the future default and silence this warning.\n",
      "  t_num_closed = df['closed_date'].groupby(level=list(range(df.index.nlevels))).count()\n",
      "C:\\Users\\Morri\\AppData\\Local\\Temp\\ipykernel_8544\\511794481.py:57: FutureWarning: The default of observed=False is deprecated and will be changed to True in a future version of pandas. Pass observed=False to retain current behavior or observed=True to adopt the future default and silence this warning.\n",
      "  t_num_created = df['created_date'].groupby(level=list(range(df.index.nlevels))).count()\n"
     ]
    },
    {
     "name": "stdout",
     "output_type": "stream",
     "text": [
      "9.076 seconds\n",
      "\n",
      "borough complaint_type\n",
      "90.959 seconds\n",
      "\n"
     ]
    }
   ],
   "source": [
    "# calculate number of open requests grouped by\n",
    "# an element of the powerset of s\n",
    "features= ['borough', 'agency','complaint_type']\n",
    "add_powerset_created(df, features)\n",
    "\n",
    "add_powerset_open(df, features)\n"
   ]
  },
  {
   "cell_type": "code",
   "execution_count": 30,
   "metadata": {},
   "outputs": [
    {
     "name": "stdout",
     "output_type": "stream",
     "text": [
      "general\n",
      "3.686 seconds\n",
      "\n",
      "borough\n",
      "3.682 seconds\n",
      "\n",
      "agency\n"
     ]
    },
    {
     "name": "stderr",
     "output_type": "stream",
     "text": [
      "C:\\Users\\Morri\\AppData\\Local\\Temp\\ipykernel_8544\\511794481.py:42: FutureWarning: The default of observed=False is deprecated and will be changed to True in a future version of pandas. Pass observed=False to retain current behavior or observed=True to adopt the future default and silence this warning.\n",
      "  t_num_closed = df['closed_date'].groupby(level=list(range(df.index.nlevels))).count()\n",
      "C:\\Users\\Morri\\AppData\\Local\\Temp\\ipykernel_8544\\511794481.py:57: FutureWarning: The default of observed=False is deprecated and will be changed to True in a future version of pandas. Pass observed=False to retain current behavior or observed=True to adopt the future default and silence this warning.\n",
      "  t_num_created = df['created_date'].groupby(level=list(range(df.index.nlevels))).count()\n"
     ]
    },
    {
     "name": "stdout",
     "output_type": "stream",
     "text": [
      "3.825 seconds\n",
      "\n",
      "complaint_type\n",
      "9.247 seconds\n",
      "\n",
      "borough agency\n"
     ]
    },
    {
     "name": "stderr",
     "output_type": "stream",
     "text": [
      "C:\\Users\\Morri\\AppData\\Local\\Temp\\ipykernel_8544\\511794481.py:42: FutureWarning: The default of observed=False is deprecated and will be changed to True in a future version of pandas. Pass observed=False to retain current behavior or observed=True to adopt the future default and silence this warning.\n",
      "  t_num_closed = df['closed_date'].groupby(level=list(range(df.index.nlevels))).count()\n",
      "C:\\Users\\Morri\\AppData\\Local\\Temp\\ipykernel_8544\\511794481.py:57: FutureWarning: The default of observed=False is deprecated and will be changed to True in a future version of pandas. Pass observed=False to retain current behavior or observed=True to adopt the future default and silence this warning.\n",
      "  t_num_created = df['created_date'].groupby(level=list(range(df.index.nlevels))).count()\n"
     ]
    },
    {
     "name": "stdout",
     "output_type": "stream",
     "text": [
      "12.507 seconds\n",
      "\n",
      "borough complaint_type\n",
      "88.326 seconds\n",
      "\n"
     ]
    },
    {
     "data": {
      "text/html": [
       "<div>\n",
       "<style scoped>\n",
       "    .dataframe tbody tr th:only-of-type {\n",
       "        vertical-align: middle;\n",
       "    }\n",
       "\n",
       "    .dataframe tbody tr th {\n",
       "        vertical-align: top;\n",
       "    }\n",
       "\n",
       "    .dataframe thead th {\n",
       "        text-align: right;\n",
       "    }\n",
       "</style>\n",
       "<table border=\"1\" class=\"dataframe\">\n",
       "  <thead>\n",
       "    <tr style=\"text-align: right;\">\n",
       "      <th></th>\n",
       "      <th>borough</th>\n",
       "      <th>complaint_type</th>\n",
       "      <th>created_H</th>\n",
       "      <th>closed_H</th>\n",
       "      <th>agency</th>\n",
       "      <th>created_date</th>\n",
       "      <th>closed_date</th>\n",
       "      <th>descriptor</th>\n",
       "      <th>status</th>\n",
       "      <th>resolution_description</th>\n",
       "      <th>...</th>\n",
       "      <th>created_ag</th>\n",
       "      <th>created_co</th>\n",
       "      <th>created_bo_ag</th>\n",
       "      <th>created_bo_co</th>\n",
       "      <th>open</th>\n",
       "      <th>open_bo</th>\n",
       "      <th>open_ag</th>\n",
       "      <th>open_co</th>\n",
       "      <th>open_bo_ag</th>\n",
       "      <th>open_bo_co</th>\n",
       "    </tr>\n",
       "  </thead>\n",
       "  <tbody>\n",
       "    <tr>\n",
       "      <th>0</th>\n",
       "      <td>QUEENS</td>\n",
       "      <td>Building/Use</td>\n",
       "      <td>2010-01-05 16:00:00</td>\n",
       "      <td>2018-06-29 00:00:00</td>\n",
       "      <td>DOB</td>\n",
       "      <td>2010-01-05 16:12:25</td>\n",
       "      <td>2018-06-29 00:00:00</td>\n",
       "      <td>Illegal Conversion Of Residential Building/Space</td>\n",
       "      <td>Closed</td>\n",
       "      <td>The Department of Buildings has investigated t...</td>\n",
       "      <td>...</td>\n",
       "      <td>1</td>\n",
       "      <td>1</td>\n",
       "      <td>1</td>\n",
       "      <td>1</td>\n",
       "      <td>&lt;NA&gt;</td>\n",
       "      <td>&lt;NA&gt;</td>\n",
       "      <td>&lt;NA&gt;</td>\n",
       "      <td>&lt;NA&gt;</td>\n",
       "      <td>&lt;NA&gt;</td>\n",
       "      <td>NaN</td>\n",
       "    </tr>\n",
       "    <tr>\n",
       "      <th>1</th>\n",
       "      <td>QUEENS</td>\n",
       "      <td>General Construction/Plumbing</td>\n",
       "      <td>2010-01-07 08:00:00</td>\n",
       "      <td>2018-09-18 00:00:00</td>\n",
       "      <td>DOB</td>\n",
       "      <td>2010-01-07 08:30:31</td>\n",
       "      <td>2018-09-18 00:00:00</td>\n",
       "      <td>Building Permit - None</td>\n",
       "      <td>Closed</td>\n",
       "      <td>The Department of Buildings investigated this ...</td>\n",
       "      <td>...</td>\n",
       "      <td>1</td>\n",
       "      <td>1</td>\n",
       "      <td>1</td>\n",
       "      <td>1</td>\n",
       "      <td>&lt;NA&gt;</td>\n",
       "      <td>&lt;NA&gt;</td>\n",
       "      <td>&lt;NA&gt;</td>\n",
       "      <td>&lt;NA&gt;</td>\n",
       "      <td>&lt;NA&gt;</td>\n",
       "      <td>NaN</td>\n",
       "    </tr>\n",
       "    <tr>\n",
       "      <th>2</th>\n",
       "      <td>MANHATTAN</td>\n",
       "      <td>General Construction/Plumbing</td>\n",
       "      <td>2010-01-11 11:00:00</td>\n",
       "      <td>2018-08-14 00:00:00</td>\n",
       "      <td>DOB</td>\n",
       "      <td>2010-01-11 11:54:41</td>\n",
       "      <td>2018-08-14 00:00:00</td>\n",
       "      <td>Egress - Doors Locked/Blocked/Improper/No Seco...</td>\n",
       "      <td>Closed</td>\n",
       "      <td>The Department of Buildings has investigated t...</td>\n",
       "      <td>...</td>\n",
       "      <td>1</td>\n",
       "      <td>1</td>\n",
       "      <td>1</td>\n",
       "      <td>1</td>\n",
       "      <td>&lt;NA&gt;</td>\n",
       "      <td>&lt;NA&gt;</td>\n",
       "      <td>&lt;NA&gt;</td>\n",
       "      <td>&lt;NA&gt;</td>\n",
       "      <td>&lt;NA&gt;</td>\n",
       "      <td>NaN</td>\n",
       "    </tr>\n",
       "    <tr>\n",
       "      <th>3</th>\n",
       "      <td>BROOKLYN</td>\n",
       "      <td>General Construction/Plumbing</td>\n",
       "      <td>2010-01-14 06:00:00</td>\n",
       "      <td>2018-11-01 00:00:00</td>\n",
       "      <td>DOB</td>\n",
       "      <td>2010-01-14 06:31:16</td>\n",
       "      <td>2018-11-01 00:00:00</td>\n",
       "      <td>Building Permit - None</td>\n",
       "      <td>Closed</td>\n",
       "      <td>The Department of Buildings investigated this ...</td>\n",
       "      <td>...</td>\n",
       "      <td>1</td>\n",
       "      <td>1</td>\n",
       "      <td>1</td>\n",
       "      <td>1</td>\n",
       "      <td>&lt;NA&gt;</td>\n",
       "      <td>&lt;NA&gt;</td>\n",
       "      <td>&lt;NA&gt;</td>\n",
       "      <td>&lt;NA&gt;</td>\n",
       "      <td>&lt;NA&gt;</td>\n",
       "      <td>NaN</td>\n",
       "    </tr>\n",
       "    <tr>\n",
       "      <th>4</th>\n",
       "      <td>QUEENS</td>\n",
       "      <td>Building/Use</td>\n",
       "      <td>2010-01-15 15:00:00</td>\n",
       "      <td>2018-08-01 00:00:00</td>\n",
       "      <td>DOB</td>\n",
       "      <td>2010-01-15 15:34:43</td>\n",
       "      <td>2018-08-01 00:00:00</td>\n",
       "      <td>Illegal Conversion Of Residential Building/Space</td>\n",
       "      <td>Closed</td>\n",
       "      <td>The Department of Buildings has investigated t...</td>\n",
       "      <td>...</td>\n",
       "      <td>1</td>\n",
       "      <td>1</td>\n",
       "      <td>1</td>\n",
       "      <td>1</td>\n",
       "      <td>&lt;NA&gt;</td>\n",
       "      <td>&lt;NA&gt;</td>\n",
       "      <td>&lt;NA&gt;</td>\n",
       "      <td>&lt;NA&gt;</td>\n",
       "      <td>&lt;NA&gt;</td>\n",
       "      <td>NaN</td>\n",
       "    </tr>\n",
       "    <tr>\n",
       "      <th>...</th>\n",
       "      <td>...</td>\n",
       "      <td>...</td>\n",
       "      <td>...</td>\n",
       "      <td>...</td>\n",
       "      <td>...</td>\n",
       "      <td>...</td>\n",
       "      <td>...</td>\n",
       "      <td>...</td>\n",
       "      <td>...</td>\n",
       "      <td>...</td>\n",
       "      <td>...</td>\n",
       "      <td>...</td>\n",
       "      <td>...</td>\n",
       "      <td>...</td>\n",
       "      <td>...</td>\n",
       "      <td>...</td>\n",
       "      <td>...</td>\n",
       "      <td>...</td>\n",
       "      <td>...</td>\n",
       "      <td>...</td>\n",
       "      <td>...</td>\n",
       "    </tr>\n",
       "    <tr>\n",
       "      <th>2704382</th>\n",
       "      <td>STATEN ISLAND</td>\n",
       "      <td>Noise - Residential</td>\n",
       "      <td>2018-12-31 23:00:00</td>\n",
       "      <td>2018-12-31 23:00:00</td>\n",
       "      <td>NYPD</td>\n",
       "      <td>2018-12-31 23:08:31</td>\n",
       "      <td>2018-12-31 23:18:44</td>\n",
       "      <td>Loud Music/Party</td>\n",
       "      <td>Closed</td>\n",
       "      <td>The Police Department responded to the complai...</td>\n",
       "      <td>...</td>\n",
       "      <td>147</td>\n",
       "      <td>80</td>\n",
       "      <td>4</td>\n",
       "      <td>3</td>\n",
       "      <td>94966</td>\n",
       "      <td>5077</td>\n",
       "      <td>953</td>\n",
       "      <td>326</td>\n",
       "      <td>28</td>\n",
       "      <td>9</td>\n",
       "    </tr>\n",
       "    <tr>\n",
       "      <th>2704383</th>\n",
       "      <td>STATEN ISLAND</td>\n",
       "      <td>Noise - Residential</td>\n",
       "      <td>2018-12-31 23:00:00</td>\n",
       "      <td>2019-01-01 04:00:00</td>\n",
       "      <td>NYPD</td>\n",
       "      <td>2018-12-31 23:39:46</td>\n",
       "      <td>2019-01-01 04:09:14</td>\n",
       "      <td>Banging/Pounding</td>\n",
       "      <td>Closed</td>\n",
       "      <td>The Police Department responded to the complai...</td>\n",
       "      <td>...</td>\n",
       "      <td>147</td>\n",
       "      <td>80</td>\n",
       "      <td>4</td>\n",
       "      <td>3</td>\n",
       "      <td>94966</td>\n",
       "      <td>5077</td>\n",
       "      <td>953</td>\n",
       "      <td>326</td>\n",
       "      <td>28</td>\n",
       "      <td>9</td>\n",
       "    </tr>\n",
       "    <tr>\n",
       "      <th>2704384</th>\n",
       "      <td>STATEN ISLAND</td>\n",
       "      <td>Noise - Residential</td>\n",
       "      <td>2018-12-31 23:00:00</td>\n",
       "      <td>2019-01-01 07:00:00</td>\n",
       "      <td>NYPD</td>\n",
       "      <td>2018-12-31 23:14:00</td>\n",
       "      <td>2019-01-01 07:40:25</td>\n",
       "      <td>Loud Music/Party</td>\n",
       "      <td>Closed</td>\n",
       "      <td>The Police Department responded to the complai...</td>\n",
       "      <td>...</td>\n",
       "      <td>147</td>\n",
       "      <td>80</td>\n",
       "      <td>4</td>\n",
       "      <td>3</td>\n",
       "      <td>94966</td>\n",
       "      <td>5077</td>\n",
       "      <td>953</td>\n",
       "      <td>326</td>\n",
       "      <td>28</td>\n",
       "      <td>9</td>\n",
       "    </tr>\n",
       "    <tr>\n",
       "      <th>2704385</th>\n",
       "      <td>STATEN ISLAND</td>\n",
       "      <td>Sewer</td>\n",
       "      <td>2018-12-31 23:00:00</td>\n",
       "      <td>2019-01-02 09:00:00</td>\n",
       "      <td>DEP</td>\n",
       "      <td>2018-12-31 23:36:00</td>\n",
       "      <td>2019-01-02 09:30:00</td>\n",
       "      <td>Street Flooding (SJ)</td>\n",
       "      <td>Closed</td>\n",
       "      <td>The Department of Environmental Protection ins...</td>\n",
       "      <td>...</td>\n",
       "      <td>13</td>\n",
       "      <td>8</td>\n",
       "      <td>1</td>\n",
       "      <td>1</td>\n",
       "      <td>94966</td>\n",
       "      <td>5077</td>\n",
       "      <td>4037</td>\n",
       "      <td>1661</td>\n",
       "      <td>185</td>\n",
       "      <td>63</td>\n",
       "    </tr>\n",
       "    <tr>\n",
       "      <th>2704386</th>\n",
       "      <td>Unspecified</td>\n",
       "      <td>Highway Condition</td>\n",
       "      <td>2018-12-31 23:00:00</td>\n",
       "      <td>2019-01-02 14:00:00</td>\n",
       "      <td>DOT</td>\n",
       "      <td>2018-12-31 23:24:38</td>\n",
       "      <td>2019-01-02 14:14:12</td>\n",
       "      <td>Pothole - Highway</td>\n",
       "      <td>Closed</td>\n",
       "      <td>The Department of Transportation has completed...</td>\n",
       "      <td>...</td>\n",
       "      <td>7</td>\n",
       "      <td>1</td>\n",
       "      <td>1</td>\n",
       "      <td>1</td>\n",
       "      <td>94966</td>\n",
       "      <td>1450</td>\n",
       "      <td>8275</td>\n",
       "      <td>45</td>\n",
       "      <td>191</td>\n",
       "      <td>45</td>\n",
       "    </tr>\n",
       "  </tbody>\n",
       "</table>\n",
       "<p>2704387 rows × 30 columns</p>\n",
       "</div>"
      ],
      "text/plain": [
       "               borough                 complaint_type           created_H  \\\n",
       "0               QUEENS                   Building/Use 2010-01-05 16:00:00   \n",
       "1               QUEENS  General Construction/Plumbing 2010-01-07 08:00:00   \n",
       "2            MANHATTAN  General Construction/Plumbing 2010-01-11 11:00:00   \n",
       "3             BROOKLYN  General Construction/Plumbing 2010-01-14 06:00:00   \n",
       "4               QUEENS                   Building/Use 2010-01-15 15:00:00   \n",
       "...                ...                            ...                 ...   \n",
       "2704382  STATEN ISLAND            Noise - Residential 2018-12-31 23:00:00   \n",
       "2704383  STATEN ISLAND            Noise - Residential 2018-12-31 23:00:00   \n",
       "2704384  STATEN ISLAND            Noise - Residential 2018-12-31 23:00:00   \n",
       "2704385  STATEN ISLAND                          Sewer 2018-12-31 23:00:00   \n",
       "2704386    Unspecified              Highway Condition 2018-12-31 23:00:00   \n",
       "\n",
       "                   closed_H agency         created_date          closed_date  \\\n",
       "0       2018-06-29 00:00:00    DOB  2010-01-05 16:12:25  2018-06-29 00:00:00   \n",
       "1       2018-09-18 00:00:00    DOB  2010-01-07 08:30:31  2018-09-18 00:00:00   \n",
       "2       2018-08-14 00:00:00    DOB  2010-01-11 11:54:41  2018-08-14 00:00:00   \n",
       "3       2018-11-01 00:00:00    DOB  2010-01-14 06:31:16  2018-11-01 00:00:00   \n",
       "4       2018-08-01 00:00:00    DOB  2010-01-15 15:34:43  2018-08-01 00:00:00   \n",
       "...                     ...    ...                  ...                  ...   \n",
       "2704382 2018-12-31 23:00:00   NYPD  2018-12-31 23:08:31  2018-12-31 23:18:44   \n",
       "2704383 2019-01-01 04:00:00   NYPD  2018-12-31 23:39:46  2019-01-01 04:09:14   \n",
       "2704384 2019-01-01 07:00:00   NYPD  2018-12-31 23:14:00  2019-01-01 07:40:25   \n",
       "2704385 2019-01-02 09:00:00    DEP  2018-12-31 23:36:00  2019-01-02 09:30:00   \n",
       "2704386 2019-01-02 14:00:00    DOT  2018-12-31 23:24:38  2019-01-02 14:14:12   \n",
       "\n",
       "                                                descriptor  status  \\\n",
       "0         Illegal Conversion Of Residential Building/Space  Closed   \n",
       "1                                   Building Permit - None  Closed   \n",
       "2        Egress - Doors Locked/Blocked/Improper/No Seco...  Closed   \n",
       "3                                   Building Permit - None  Closed   \n",
       "4         Illegal Conversion Of Residential Building/Space  Closed   \n",
       "...                                                    ...     ...   \n",
       "2704382                                   Loud Music/Party  Closed   \n",
       "2704383                                   Banging/Pounding  Closed   \n",
       "2704384                                   Loud Music/Party  Closed   \n",
       "2704385                               Street Flooding (SJ)  Closed   \n",
       "2704386                                  Pothole - Highway  Closed   \n",
       "\n",
       "                                    resolution_description  ... created_ag  \\\n",
       "0        The Department of Buildings has investigated t...  ...          1   \n",
       "1        The Department of Buildings investigated this ...  ...          1   \n",
       "2        The Department of Buildings has investigated t...  ...          1   \n",
       "3        The Department of Buildings investigated this ...  ...          1   \n",
       "4        The Department of Buildings has investigated t...  ...          1   \n",
       "...                                                    ...  ...        ...   \n",
       "2704382  The Police Department responded to the complai...  ...        147   \n",
       "2704383  The Police Department responded to the complai...  ...        147   \n",
       "2704384  The Police Department responded to the complai...  ...        147   \n",
       "2704385  The Department of Environmental Protection ins...  ...         13   \n",
       "2704386  The Department of Transportation has completed...  ...          7   \n",
       "\n",
       "        created_co created_bo_ag created_bo_co   open  open_bo open_ag  \\\n",
       "0                1             1             1   <NA>     <NA>    <NA>   \n",
       "1                1             1             1   <NA>     <NA>    <NA>   \n",
       "2                1             1             1   <NA>     <NA>    <NA>   \n",
       "3                1             1             1   <NA>     <NA>    <NA>   \n",
       "4                1             1             1   <NA>     <NA>    <NA>   \n",
       "...            ...           ...           ...    ...      ...     ...   \n",
       "2704382         80             4             3  94966     5077     953   \n",
       "2704383         80             4             3  94966     5077     953   \n",
       "2704384         80             4             3  94966     5077     953   \n",
       "2704385          8             1             1  94966     5077    4037   \n",
       "2704386          1             1             1  94966     1450    8275   \n",
       "\n",
       "         open_co  open_bo_ag  open_bo_co  \n",
       "0           <NA>        <NA>         NaN  \n",
       "1           <NA>        <NA>         NaN  \n",
       "2           <NA>        <NA>         NaN  \n",
       "3           <NA>        <NA>         NaN  \n",
       "4           <NA>        <NA>         NaN  \n",
       "...          ...         ...         ...  \n",
       "2704382      326          28           9  \n",
       "2704383      326          28           9  \n",
       "2704384      326          28           9  \n",
       "2704385     1661         185          63  \n",
       "2704386       45         191          45  \n",
       "\n",
       "[2704387 rows x 30 columns]"
      ]
     },
     "execution_count": 30,
     "metadata": {},
     "output_type": "execute_result"
    }
   ],
   "source": [
    "df"
   ]
  },
  {
   "cell_type": "code",
   "execution_count": 33,
   "metadata": {},
   "outputs": [
    {
     "data": {
      "text/plain": [
       "borough                                  string[pyarrow]\n",
       "complaint_type                           string[pyarrow]\n",
       "created_H                         timestamp[ns][pyarrow]\n",
       "closed_H                          timestamp[ns][pyarrow]\n",
       "agency                                          category\n",
       "created_date                      timestamp[ns][pyarrow]\n",
       "closed_date                       timestamp[ns][pyarrow]\n",
       "descriptor                               string[pyarrow]\n",
       "status                                   string[pyarrow]\n",
       "resolution_description                   string[pyarrow]\n",
       "resolution_action_updated_date    timestamp[ns][pyarrow]\n",
       "incident_zip                             string[pyarrow]\n",
       "city                                     string[pyarrow]\n",
       "bbl                                      string[pyarrow]\n",
       "latitude                                 double[pyarrow]\n",
       "longitude                                double[pyarrow]\n",
       "due_date                          timestamp[ns][pyarrow]\n",
       "hours_to_complete                        double[pyarrow]\n",
       "created                                   int64[pyarrow]\n",
       "created_bo                                int64[pyarrow]\n",
       "created_ag                                int64[pyarrow]\n",
       "created_co                                int64[pyarrow]\n",
       "created_bo_ag                             int64[pyarrow]\n",
       "created_bo_co                             int64[pyarrow]\n",
       "open                                      int64[pyarrow]\n",
       "open_bo                                   int64[pyarrow]\n",
       "open_ag                                   int64[pyarrow]\n",
       "open_co                                   int64[pyarrow]\n",
       "open_bo_ag                                int64[pyarrow]\n",
       "open_bo_co                                int64[pyarrow]\n",
       "dtype: object"
      ]
     },
     "execution_count": 33,
     "metadata": {},
     "output_type": "execute_result"
    }
   ],
   "source": [
    "df = df.convert_dtypes(dtype_backend=\"pyarrow\")\n",
    "df.dtypes"
   ]
  },
  {
   "cell_type": "markdown",
   "metadata": {},
   "source": [
    "##### Save new frame to a file"
   ]
  },
  {
   "cell_type": "code",
   "execution_count": 34,
   "metadata": {},
   "outputs": [],
   "source": [
    "df.to_parquet(dir_2018/\"processed\", partition_cols=['agency'])"
   ]
  }
 ],
 "metadata": {
  "kernelspec": {
   "display_name": ".venv",
   "language": "python",
   "name": "python3"
  },
  "language_info": {
   "codemirror_mode": {
    "name": "ipython",
    "version": 3
   },
   "file_extension": ".py",
   "mimetype": "text/x-python",
   "name": "python",
   "nbconvert_exporter": "python",
   "pygments_lexer": "ipython3",
   "version": "3.10.13"
  }
 },
 "nbformat": 4,
 "nbformat_minor": 2
}
